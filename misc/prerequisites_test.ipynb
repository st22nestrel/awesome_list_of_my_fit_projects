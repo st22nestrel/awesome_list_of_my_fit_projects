{
 "cells": [
  {
   "cell_type": "markdown",
   "metadata": {},
   "source": [
    "# Test prerekvizitních znalostí Pythonu\n",
    "Na tomto testu byste si měli ověřit, zda chápete základní struktury a konstrukce v jazyku Python. \n",
    "\n",
    "_Odhadovaná doba řešení:_ 10 minut\n",
    "\n",
    "_Odevzdávání:_ tento soubor `test.ipynb` odevzdejte do WISu do úterý 21. září 2021\n",
    "\n",
    "_Dotazy:_ fórum ve WISu, hodnotit bude V. Mrázek"
   ]
  },
  {
   "cell_type": "code",
   "execution_count": 1,
   "metadata": {
    "scrolled": false,
    "tags": []
   },
   "outputs": [
    {
     "name": "stdout",
     "output_type": "stream",
     "text": [
      "3.8.20 (default, Sep  7 2024, 18:35:08) \n",
      "[GCC 11.4.0]\n"
     ]
    }
   ],
   "source": [
    "# test verze jazyka Python\n",
    "import sys\n",
    "print(sys.version)\n",
    "# mela by byt Python 3.8 nebo 3.9"
   ]
  },
  {
   "cell_type": "code",
   "execution_count": 2,
   "metadata": {
    "tags": []
   },
   "outputs": [
    {
     "name": "stdout",
     "output_type": "stream",
     "text": [
      "xponek00\n"
     ]
    }
   ],
   "source": [
    "# TODO: vypište váš login\n",
    "print(\"xponek00\")"
   ]
  },
  {
   "cell_type": "markdown",
   "metadata": {},
   "source": [
    "## Část 1: funkce\n",
    "\n",
    "- Napište funci `f1` s proměnným počtem __pozičně nezávislých__ argumentů, která vypíše všechny argumenty ve formátu\n",
    "```\n",
    "param1=hodnota1\n",
    "param2=hodnota2\n",
    "param3=hodnota3\n",
    "param4=hodnota4\n",
    "```"
   ]
  },
  {
   "cell_type": "code",
   "execution_count": 3,
   "metadata": {
    "tags": []
   },
   "outputs": [
    {
     "name": "stdout",
     "output_type": "stream",
     "text": [
      "param1=hodnota1\n",
      "param2=hodnota2\n",
      "param3=hodnota3\n",
      "param4=hodnota4\n"
     ]
    }
   ],
   "source": [
    "# Funkce s proměnným počtem argumentů\n",
    "# TODO: napiste funkci f1 \n",
    "\n",
    "def f1(**kwargs):\n",
    "    for key, val in kwargs.items():\n",
    "        print(f\"{key}={val}\")\n",
    "\n",
    "f1(param1=\"hodnota1\", param2=\"hodnota2\", param3=\"hodnota3\", param4=\"hodnota4\")"
   ]
  },
  {
   "cell_type": "markdown",
   "metadata": {},
   "source": [
    "Vytvořte slovník (`dictionary`) v proměnné `dict_values` , který bude obsahovat položky \"param1\" s hodnotou \"value1\", \"param2\" s hodnotou \"value2\" až po \"param30\" s hodnotou \"value30\". Zřejmě k tomu využijete výčet `range`, formátovací řetězce a můžete použít zápis na jeden řádek pomocí tzv _generátorové notace_."
   ]
  },
  {
   "cell_type": "code",
   "execution_count": 4,
   "metadata": {},
   "outputs": [],
   "source": [
    "# TODO: vytvořte slovník dict_values (a na konci jej vypište)\n",
    "\n",
    "dict_values = {f\"param{x}\": f\"value{x}\" for x in range(1, 30)}"
   ]
  },
  {
   "cell_type": "markdown",
   "metadata": {},
   "source": [
    "Zavolejte funkci `f1` tak, aby měla parametry c=\"funkce1\", param1=\"value1\", ... (stejně jako předchozí krok). Využijte k tomu slovník `dict_values` z předchozího úkolu."
   ]
  },
  {
   "cell_type": "code",
   "execution_count": 5,
   "metadata": {
    "tags": []
   },
   "outputs": [
    {
     "name": "stdout",
     "output_type": "stream",
     "text": [
      "param1=value1\n",
      "param2=value2\n",
      "param3=value3\n",
      "param4=value4\n",
      "param5=value5\n",
      "param6=value6\n",
      "param7=value7\n",
      "param8=value8\n",
      "param9=value9\n",
      "param10=value10\n",
      "param11=value11\n",
      "param12=value12\n",
      "param13=value13\n",
      "param14=value14\n",
      "param15=value15\n",
      "param16=value16\n",
      "param17=value17\n",
      "param18=value18\n",
      "param19=value19\n",
      "param20=value20\n",
      "param21=value21\n",
      "param22=value22\n",
      "param23=value23\n",
      "param24=value24\n",
      "param25=value25\n",
      "param26=value26\n",
      "param27=value27\n",
      "param28=value28\n",
      "param29=value29\n"
     ]
    }
   ],
   "source": [
    "# TODO: na jednom řádku vyřešte výše uvedené volání\n",
    "f1(**dict_values)"
   ]
  },
  {
   "cell_type": "markdown",
   "metadata": {},
   "source": [
    "## Část 2: Třídy\n",
    "\n",
    "Vytvořte třídu `Auto`, které má:\n",
    "\n",
    "- incializátor, který vezme argument `vykon` a jeho hodnotu přiřadí do atributu `vykon` nově vzniklé instance\n",
    "- funkci, která zařídí, že když se zadá `print(instance_objektu)`, tak se vypíše řetězec `Auto(vykon=??)`, kde `??` bude nahrazeno hodnotou atributu `vykon`\n",
    "- atribut `vykon`, který bude řízen přes tzv. _getter_ a _setter_ (viz `@property` kontrukce) tak, že\n",
    "  - getter vrátí hodnotu neveřejného atributu `self.__vykon`\n",
    "  - setter změní hodnotu neveřejného atributu `self.__vykon` pouze když je hodnota nezáporná. Jinak vyvolá vyjímku `ValueError` s popisem `Vykon nemuze byt mensi nez 0, bylo zadano ??`."
   ]
  },
  {
   "cell_type": "code",
   "execution_count": 6,
   "metadata": {
    "tags": []
   },
   "outputs": [
    {
     "name": "stdout",
     "output_type": "stream",
     "text": [
      "Muj objekt je Auto125\n"
     ]
    }
   ],
   "source": [
    "#TODO: vytvorte tridu\n",
    "class Auto:\n",
    "    def __init__(self, vykon):\n",
    "        self.vykon = vykon\n",
    "\n",
    "    def __repr__(self):\n",
    "        return f\"Auto{self._vykon}\"\n",
    "\n",
    "    @property\n",
    "    def vykon(self):\n",
    "        return self._vykon\n",
    "\n",
    "    @vykon.setter\n",
    "    def vykon(self, value):\n",
    "        if value < 0:\n",
    "            raise ValueError(f\"Vykon nemuze byt mensi nez 0, bylo zadano {value}\")\n",
    "        self._vykon = value\n",
    "\n",
    "auto = Auto(vykon=15)\n",
    "auto.vykon = 125\n",
    "print(\"Muj objekt je\", auto)\n"
   ]
  },
  {
   "cell_type": "markdown",
   "metadata": {},
   "source": [
    "Test vyvolání vyjímky - zkusíme natastavit zápornou hodnotu výkonu auta."
   ]
  },
  {
   "cell_type": "code",
   "execution_count": 7,
   "metadata": {},
   "outputs": [
    {
     "ename": "ValueError",
     "evalue": "Vykon nemuze byt mensi nez 0, bylo zadano -100",
     "output_type": "error",
     "traceback": [
      "\u001b[0;31m---------------------------------------------------------------------------\u001b[0m",
      "\u001b[0;31mValueError\u001b[0m                                Traceback (most recent call last)",
      "Cell \u001b[0;32mIn[7], line 2\u001b[0m\n\u001b[1;32m      1\u001b[0m auto \u001b[38;5;241m=\u001b[39m Auto(vykon\u001b[38;5;241m=\u001b[39m\u001b[38;5;241m15\u001b[39m)\n\u001b[0;32m----> 2\u001b[0m \u001b[43mauto\u001b[49m\u001b[38;5;241;43m.\u001b[39;49m\u001b[43mvykon\u001b[49m \u001b[38;5;241m=\u001b[39m \u001b[38;5;241m-\u001b[39m\u001b[38;5;241m100\u001b[39m\n",
      "Cell \u001b[0;32mIn[6], line 16\u001b[0m, in \u001b[0;36mAuto.vykon\u001b[0;34m(self, value)\u001b[0m\n\u001b[1;32m     13\u001b[0m \u001b[38;5;129m@vykon\u001b[39m\u001b[38;5;241m.\u001b[39msetter\n\u001b[1;32m     14\u001b[0m \u001b[38;5;28;01mdef\u001b[39;00m \u001b[38;5;21mvykon\u001b[39m(\u001b[38;5;28mself\u001b[39m, value):\n\u001b[1;32m     15\u001b[0m     \u001b[38;5;28;01mif\u001b[39;00m value \u001b[38;5;241m<\u001b[39m \u001b[38;5;241m0\u001b[39m:\n\u001b[0;32m---> 16\u001b[0m         \u001b[38;5;28;01mraise\u001b[39;00m \u001b[38;5;167;01mValueError\u001b[39;00m(\u001b[38;5;124mf\u001b[39m\u001b[38;5;124m\"\u001b[39m\u001b[38;5;124mVykon nemuze byt mensi nez 0, bylo zadano \u001b[39m\u001b[38;5;132;01m{\u001b[39;00mvalue\u001b[38;5;132;01m}\u001b[39;00m\u001b[38;5;124m\"\u001b[39m)\n\u001b[1;32m     17\u001b[0m     \u001b[38;5;28mself\u001b[39m\u001b[38;5;241m.\u001b[39m_vykon \u001b[38;5;241m=\u001b[39m value\n",
      "\u001b[0;31mValueError\u001b[0m: Vykon nemuze byt mensi nez 0, bylo zadano -100"
     ]
    }
   ],
   "source": [
    "auto = Auto(vykon=15)\n",
    "auto.vykon = -100"
   ]
  },
  {
   "cell_type": "markdown",
   "metadata": {},
   "source": [
    "Nyní je vaším úkolem napsat ošetření vyjímky, které při nastavení záporné hodnoty výkonu vypíše chybovou hlášku, kterou převezme z vyjímky (použijte konstrukci `ValueError as e` a vypište i proměnnou `e`)"
   ]
  },
  {
   "cell_type": "code",
   "execution_count": null,
   "metadata": {
    "tags": []
   },
   "outputs": [
    {
     "name": "stdout",
     "output_type": "stream",
     "text": [
      "Vykon nemuze byt mensi nez 0, bylo zadano -100\n"
     ]
    }
   ],
   "source": [
    "#TODO: vytvorte konstrukci zachytavani chyby\n",
    "try:\n",
    "    auto = Auto(vykon=-100)\n",
    "except ValueError as e:\n",
    "    print(e)\n",
    "else:\n",
    "    print(\"Vse probehlo OK\")\n"
   ]
  },
  {
   "cell_type": "markdown",
   "metadata": {},
   "source": [
    "## Část 3: Smyčky, pole atd.\n",
    "\n",
    "Vytvoříme data, se kterými budeme pracovat"
   ]
  },
  {
   "cell_type": "code",
   "execution_count": null,
   "metadata": {},
   "outputs": [],
   "source": [
    "data = [\n",
    "    (\"Karel\", \"Procházka\"),\n",
    "    (\"Lucie\", \"Nováková\"),\n",
    "    (\"Přemysl\", \"Oráč\")\n",
    "]"
   ]
  },
  {
   "cell_type": "markdown",
   "metadata": {},
   "source": [
    "Projdete data v cyklu s tím, že vypíšete:\n",
    "```\n",
    "1. Karel Procházka\n",
    "2. Lucie Nováková\n",
    "3. Přemysl Oráč\n",
    "```\n",
    "\n",
    "Použijte jeden cyklus s tím, že budete plnit proměnné `rid`, `jmeno` a `prijmeni` - použijte funkce `enumerate` a rozbalení  (_upacking_)."
   ]
  },
  {
   "cell_type": "code",
   "execution_count": null,
   "metadata": {
    "tags": []
   },
   "outputs": [
    {
     "name": "stdout",
     "output_type": "stream",
     "text": [
      "1. Karel Procházka\n",
      "2. Lucie Nováková\n",
      "3. Přemysl Oráč\n"
     ]
    }
   ],
   "source": [
    "#TODO: napiste cyklus\n",
    "for rid, (jmeno, prijmeni) in enumerate(data):\n",
    "    print(f\"{rid + 1}. {jmeno} {prijmeni}\")\n"
   ]
  },
  {
   "cell_type": "markdown",
   "metadata": {},
   "source": [
    "A vypište poslední prvek posle"
   ]
  },
  {
   "cell_type": "code",
   "execution_count": null,
   "metadata": {
    "tags": []
   },
   "outputs": [
    {
     "name": "stdout",
     "output_type": "stream",
     "text": [
      "('Přemysl', 'Oráč')\n"
     ]
    }
   ],
   "source": [
    "#TODO: výpis posledního prvku\n",
    "print(data[-1])"
   ]
  },
  {
   "cell_type": "markdown",
   "metadata": {},
   "source": [
    "Pozor, nepřidávejte další buňky a neměňte buňky s popisem na kód."
   ]
  }
 ],
 "metadata": {
  "kernelspec": {
   "display_name": "Python 3",
   "language": "python",
   "name": "python3"
  },
  "language_info": {
   "codemirror_mode": {
    "name": "ipython",
    "version": 3
   },
   "file_extension": ".py",
   "mimetype": "text/x-python",
   "name": "python",
   "nbconvert_exporter": "python",
   "pygments_lexer": "ipython3",
   "version": "3.8.20"
  }
 },
 "nbformat": 4,
 "nbformat_minor": 2
}
