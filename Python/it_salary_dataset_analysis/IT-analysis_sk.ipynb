{
 "cells": [
  {
   "cell_type": "code",
   "execution_count": 159,
   "metadata": {},
   "outputs": [],
   "source": [
    "import pandas as pd\n",
    "import numpy as np\n",
    "import statsmodels.api as sm\n",
    "\n",
    "import matplotlib.pyplot as plt\n",
    "import seaborn as sns\n",
    "import plotly.express as px\n",
    "\n",
    "sns.set_style(\"darkgrid\")\n",
    "sns.set_context(\"notebook\")"
   ]
  },
  {
   "cell_type": "markdown",
   "metadata": {},
   "source": [
    "Niektoré časti kódu boli inšpirované/použité z tohto python notebooku https://www.kaggle.com/code/docxian/it-salary-survey-eu-2020"
   ]
  },
  {
   "cell_type": "markdown",
   "metadata": {},
   "source": [
    "## Bod 1 - stiahnutie datasetu..."
   ]
  },
  {
   "cell_type": "code",
   "execution_count": 160,
   "metadata": {},
   "outputs": [],
   "source": [
    "df = pd.read_csv(\"dataset/IT Salary Survey EU 2020.csv\")"
   ]
  },
  {
   "cell_type": "markdown",
   "metadata": {},
   "source": [
    "## Bod 2\n",
    "prozkoumejte jednotlivé atributy datové sady, jejich typ a hodnoty, kterých nabývají (počet hodnot, nejčastější hodnoty, rozsah hodnot atd.)"
   ]
  },
  {
   "cell_type": "code",
   "execution_count": null,
   "metadata": {},
   "outputs": [],
   "source": [
    "df.info()"
   ]
  },
  {
   "cell_type": "code",
   "execution_count": null,
   "metadata": {},
   "outputs": [],
   "source": [
    "df.dtypes"
   ]
  },
  {
   "cell_type": "code",
   "execution_count": null,
   "metadata": {},
   "outputs": [],
   "source": [
    "df.describe()"
   ]
  },
  {
   "cell_type": "markdown",
   "metadata": {},
   "source": [
    "Prevedieme string hodnoty na uppercase pre lepšie budúce čistenie"
   ]
  },
  {
   "cell_type": "code",
   "execution_count": 164,
   "metadata": {},
   "outputs": [],
   "source": [
    "def clean_string(x):\n",
    "    x = x.strip().lower().capitalize()\n",
    "    return x\n",
    "\n",
    "features_for_string_cleaning = ['City',\n",
    "                                'Your main technology / programming language',\n",
    "                                'Other technologies/programming languages you use often']\n",
    "\n",
    "for f in features_for_string_cleaning:\n",
    "    df[f] = df[f].fillna(\"0\")\n",
    "    df[f] = df[f].apply(clean_string)"
   ]
  },
  {
   "cell_type": "markdown",
   "metadata": {},
   "source": [
    "## podukol 1 & 2 - popis jednotlivých atribútov datovej sady, typ a hodnota (počet hodnôt, najčastejšia hodnota, rozsah hodnôt) + rozloženie hodnôt jednotivých atribútov vykreslené pomocou vhodných grafov"
   ]
  },
  {
   "cell_type": "markdown",
   "metadata": {},
   "source": [
    "### 1. Časová značka (Timestamp)"
   ]
  },
  {
   "cell_type": "code",
   "execution_count": null,
   "metadata": {},
   "outputs": [],
   "source": [
    "df.Timestamp.describe()"
   ]
  },
  {
   "cell_type": "markdown",
   "metadata": {},
   "source": [
    "### 2. Vek (Age)"
   ]
  },
  {
   "cell_type": "code",
   "execution_count": null,
   "metadata": {},
   "outputs": [],
   "source": [
    "df.Age.describe()"
   ]
  },
  {
   "cell_type": "code",
   "execution_count": null,
   "metadata": {},
   "outputs": [],
   "source": [
    "fig, axes = plt.subplots(ncols=1, nrows=2, figsize=(20, 18))\n",
    "\n",
    "plot1 = sns.histplot(data=df.Age, ax=axes[0])\n",
    "\n",
    "plot1.set_xlabel('vek', fontsize=16);\n",
    "plot1.set_ylabel('počet', fontsize=16);\n",
    "plot1.set_title('Vek IT pracovníkov ktorí vyplnili dotazník', fontsize=20)\n",
    "\n",
    "for c in axes[0].containers:\n",
    "    labels = [f'{(v.get_height()):.0f}' for v in c]\n",
    "    axes[0].bar_label(c, labels=labels, label_type='edge')\n",
    "\n",
    "plot2 = sm.qqplot_2samples(df.Age, df[\"Yearly brutto salary (without bonus and stocks) in EUR\"], ax=axes[1])\n",
    "\n",
    "axes[1].set_xlabel('vek', fontsize=16);\n",
    "axes[1].set_ylabel('plat', fontsize=16);\n",
    "axes[1].set_title('QQ-graf vek - plat', fontsize=20)"
   ]
  },
  {
   "cell_type": "markdown",
   "metadata": {},
   "source": [
    "### 3. Pohlavie (Gender)"
   ]
  },
  {
   "cell_type": "code",
   "execution_count": null,
   "metadata": {},
   "outputs": [],
   "source": [
    "df.Gender.describe()"
   ]
  },
  {
   "cell_type": "code",
   "execution_count": null,
   "metadata": {},
   "outputs": [],
   "source": [
    "fig, axes = plt.subplots(figsize=(12, 8))\n",
    "\n",
    "plot1 = sns.histplot(data=df.Gender, ax=axes)\n",
    "\n",
    "axes.set_xlabel('', fontsize=16);\n",
    "axes.set_ylabel('počet', fontsize=16);\n",
    "axes.set_title('Pohlavie', fontsize=20)\n",
    "\n",
    "axes.set_xticklabels([\"Muž\", \"Žena\", \"Iné\"])\n",
    "for c in axes.containers:\n",
    "    labels = [f'{(v.get_height()):.0f}' for v in c]\n",
    "    axes.bar_label(c, labels=labels, label_type='edge')"
   ]
  },
  {
   "cell_type": "markdown",
   "metadata": {},
   "source": [
    "### 4. Mesto (City)"
   ]
  },
  {
   "cell_type": "code",
   "execution_count": null,
   "metadata": {},
   "outputs": [],
   "source": [
    "df.City.describe()"
   ]
  },
  {
   "cell_type": "code",
   "execution_count": null,
   "metadata": {},
   "outputs": [],
   "source": [
    "# reduce levels\n",
    "coll = \"City\"\n",
    "\n",
    "df[coll].loc[df[coll]=='Bölingen'] = 'Boeblingen'\n",
    "df[coll].loc[df[coll]=='Dusseldorf'] = 'Duesseldorf'\n",
    "df[coll].loc[df[coll]=='Düsseldorf'] = 'Duesseldorf'\n",
    "df[coll].loc[df[coll]=='Dusseldurf'] = 'Duesseldorf'\n",
    "df[coll].loc[df[coll]=='Nürnberg'] = 'Nuremberg'\n",
    "df[coll].loc[df[coll]=='Warsaw, Poland'] = 'Warsaw'\n",
    "df[coll].loc[df[coll]=='Zürich'] = 'Zurich'\n",
    "\n",
    "temp_count = df[coll].value_counts()\n",
    "\n",
    "freq_min = 5\n",
    "keep_levels = list(temp_count[temp_count.values>=freq_min].index)\n",
    "df[coll] = df[coll].where(df[coll].isin(keep_levels), 'Other cities')\n"
   ]
  },
  {
   "cell_type": "code",
   "execution_count": null,
   "metadata": {},
   "outputs": [],
   "source": [
    "# plot for reduced column\n",
    "fig, axes = plt.subplots(figsize=(20, 8))\n",
    "\n",
    "plot1 = sns.countplot(x=df.City, ax=axes, order=df.City.value_counts().index)\n",
    "\n",
    "plot1.set_xlabel('', fontsize=16);\n",
    "plot1.set_ylabel('', fontsize=16);\n",
    "plot1.set_title('Počet IT pracovníkov z jednotlivých miest', fontsize=20)\n",
    "\n",
    "#axes.set_xticklabels([\"Muž\", \"Žena\", \"Iné\"])\n",
    "for c in axes.containers:\n",
    "    labels = [f'{(v.get_height()):.0f}' for v in c]\n",
    "    axes.bar_label(c, labels=labels, label_type='edge')\n",
    "    "
   ]
  },
  {
   "cell_type": "markdown",
   "metadata": {},
   "source": [
    "### 5. Pozícia (Position)"
   ]
  },
  {
   "cell_type": "code",
   "execution_count": null,
   "metadata": {},
   "outputs": [],
   "source": [
    "df[\"Position \"].describe()"
   ]
  },
  {
   "cell_type": "code",
   "execution_count": 174,
   "metadata": {},
   "outputs": [],
   "source": [
    "# reduce levels\n",
    "coll = \"Position \"\n",
    "\n",
    "temp_count = df[coll].value_counts()\n",
    "\n",
    "freq_min = 5\n",
    "keep_levels = list(temp_count[temp_count.values>=freq_min].index)\n",
    "df[coll] = df[coll].where(df[coll].isin(keep_levels), 'Other position')\n"
   ]
  },
  {
   "cell_type": "code",
   "execution_count": null,
   "metadata": {},
   "outputs": [],
   "source": [
    "fig, axes = plt.subplots(figsize=(20, 12))\n",
    "\n",
    "plot1 = sns.countplot(y=df[\"Position \"], ax=axes, order=df[\"Position \"].value_counts().index)\n",
    "\n",
    "plot1.set_xlabel('', fontsize=16);\n",
    "plot1.set_ylabel('', fontsize=16);\n",
    "plot1.set_title('Počet IT pracovníkov na jednotlivých pozíciách', fontsize=20)\n",
    "\n",
    "for c in axes.containers:\n",
    "    labels = [f'{(v.get_width()):.0f}' for v in c]\n",
    "    axes.bar_label(c, labels=labels, label_type='edge')"
   ]
  },
  {
   "cell_type": "markdown",
   "metadata": {},
   "source": [
    "### 6. Celkový počet rokov skúseností / odpracovaných rokov (Total years of experience)"
   ]
  },
  {
   "cell_type": "code",
   "execution_count": null,
   "metadata": {},
   "outputs": [],
   "source": [
    "coll = \"Total years of experience\"\n",
    "\n",
    "df[coll].loc[df[coll]=='6 (not as a data scientist, but as a lab scientist)'] = '6'\n",
    "df[coll].loc[df[coll]=='less than year'] = '1'\n",
    "df[coll].loc[df[coll]=='15, thereof 8 as CTO'] = '15'\n",
    "df[coll].loc[df[coll]=='1 (as QA Engineer) / 11 in total'] = '11'\n",
    "df[coll].loc[df[coll]=='383'] = '0'\n",
    "df[coll].loc[df[coll]=='1,5'] = '1.5'\n",
    "df[coll].loc[df[coll]=='2,5'] = '2.5'\n",
    "df[coll] = df[coll].astype(float)"
   ]
  },
  {
   "cell_type": "code",
   "execution_count": null,
   "metadata": {},
   "outputs": [],
   "source": [
    "df[\"Total years of experience\"].describe()"
   ]
  },
  {
   "cell_type": "code",
   "execution_count": null,
   "metadata": {},
   "outputs": [],
   "source": [
    "fig, axes = plt.subplots(figsize=(20, 16))\n",
    "\n",
    "plot1 = sns.countplot(y=df[\"Total years of experience\"], ax=axes, order=df[\"Total years of experience\"].value_counts().index)\n",
    "\n",
    "plot1.set_xlabel('', fontsize=16);\n",
    "plot1.set_ylabel('', fontsize=16);\n",
    "plot1.set_title('Celkový počet počet rokov skúseností', fontsize=20)\n",
    "\n",
    "for c in axes.containers:\n",
    "    labels = [f'{(v.get_width()):.0f}' for v in c]\n",
    "    axes.bar_label(c, labels=labels, label_type='edge')"
   ]
  },
  {
   "cell_type": "markdown",
   "metadata": {},
   "source": [
    "### 7. Počet rokov skúseností / odpracovaných rokov v Nemecku (Total years of experience in Germany)"
   ]
  },
  {
   "cell_type": "code",
   "execution_count": null,
   "metadata": {},
   "outputs": [],
   "source": [
    "coll = \"Years of experience in Germany\"\n",
    "\n",
    "df[coll].loc[df[coll]=='0,3'] = '0.3'\n",
    "df[coll].loc[df[coll]=='0,5'] = '0.5'\n",
    "df[coll].loc[df[coll]=='1,5'] = '1.5'\n",
    "df[coll].loc[df[coll]=='1,7'] = '1.7'\n",
    "df[coll].loc[df[coll]=='2,5'] = '2.5'\n",
    "df[coll].loc[df[coll]=='3,5'] = '3.5'\n",
    "df[coll].loc[df[coll]=='4,5'] = '4.5'\n",
    "df[coll].loc[df[coll]=='<1'] = '0.5'\n",
    "df[coll].loc[df[coll]=='< 1'] = '0.5'\n",
    "df[coll].loc[df[coll]=='3 months'] = '0.25'\n",
    "df[coll].loc[df[coll]=='4 month'] = '0.33'\n",
    "df[coll].loc[df[coll]=='4 (in Switzerland), 0 (in Germany)'] = '0'\n",
    "df[coll].loc[df[coll]=='less than year'] = '0.5'\n",
    "df[coll].loc[df[coll]=='⁰'] = '0'\n",
    "df[coll].loc[df[coll]=='-'] = '0'\n",
    "df[coll].loc[df[coll]=='6 (not as a data scientist, but as a lab scientist)'] = '6'\n",
    "df[coll].loc[df[coll]=='3 (in Poland)'] = '0'\n",
    "df[coll] = df[coll].astype(float)"
   ]
  },
  {
   "cell_type": "code",
   "execution_count": null,
   "metadata": {},
   "outputs": [],
   "source": [
    "df[\"Years of experience in Germany\"].describe()"
   ]
  },
  {
   "cell_type": "code",
   "execution_count": null,
   "metadata": {},
   "outputs": [],
   "source": [
    "fig, axes = plt.subplots(figsize=(20, 16))\n",
    "\n",
    "plot1 = sns.countplot(y=df[\"Years of experience in Germany\"], ax=axes, order=df[\"Years of experience in Germany\"].value_counts().index)\n",
    "\n",
    "plot1.set_xlabel('', fontsize=16);\n",
    "plot1.set_ylabel('', fontsize=16);\n",
    "plot1.set_title('Počet rokov skúseností v Nemecku', fontsize=20)\n",
    "\n",
    "for c in axes.containers:\n",
    "    labels = [f'{(v.get_width()):.0f}' for v in c]\n",
    "    axes.bar_label(c, labels=labels, label_type='edge')"
   ]
  },
  {
   "cell_type": "markdown",
   "metadata": {},
   "source": [
    "### 8. Level skúsenosti (Seniority level)"
   ]
  },
  {
   "cell_type": "code",
   "execution_count": null,
   "metadata": {},
   "outputs": [],
   "source": [
    "df[\"Seniority level\"].describe()"
   ]
  },
  {
   "cell_type": "code",
   "execution_count": 183,
   "metadata": {},
   "outputs": [],
   "source": [
    "coll = \"Seniority level\"\n",
    "\n",
    "temp_count = df[coll].value_counts()\n",
    "\n",
    "freq_min = 5\n",
    "keep_levels = list(temp_count[temp_count.values>=freq_min].index)\n",
    "df[coll] = df[coll].where(df[coll].isin(keep_levels), 'Other level')"
   ]
  },
  {
   "cell_type": "code",
   "execution_count": null,
   "metadata": {},
   "outputs": [],
   "source": [
    "fig, axes = plt.subplots(figsize=(18, 12))\n",
    "\n",
    "plot1 = sns.countplot(x=df[\"Seniority level\"], ax=axes, order=df[\"Seniority level\"].value_counts().index)\n",
    "\n",
    "plot1.set_xlabel('', fontsize=16);\n",
    "plot1.set_ylabel('', fontsize=16);\n",
    "plot1.set_title('Level skúsenosti', fontsize=20)\n",
    "\n",
    "for c in axes.containers:\n",
    "    labels = [f'{(v.get_height()):.0f}' for v in c]\n",
    "    axes.bar_label(c, labels=labels, label_type='edge')"
   ]
  },
  {
   "cell_type": "markdown",
   "metadata": {},
   "source": [
    "### 9. Vaša hlavná technológia / programovací jazyk (Your main technology / programming language)"
   ]
  },
  {
   "cell_type": "code",
   "execution_count": null,
   "metadata": {},
   "outputs": [],
   "source": [
    "df[\"Your main technology / programming language\"].describe()"
   ]
  },
  {
   "cell_type": "code",
   "execution_count": null,
   "metadata": {},
   "outputs": [],
   "source": [
    "df[\"Your main technology / programming language\"].unique()"
   ]
  },
  {
   "cell_type": "code",
   "execution_count": null,
   "metadata": {},
   "outputs": [],
   "source": [
    "coll = \"Your main technology / programming language\"\n",
    "\n",
    "df[coll].loc[df[coll]=='Javascript'] = 'JavaScript'\n",
    "df[coll].loc[df[coll]=='Javascript/es6'] = 'JavaScript'\n",
    "df[coll].loc[df[coll]=='js'] = 'JavaScript'\n",
    "df[coll].loc[df[coll]=='Js'] = 'JavaScript'\n",
    "df[coll].loc[df[coll]=='Javascript'] = 'JavaScript'\n",
    "df[coll].loc[df[coll]=='web apps'] = 'JavaScript'\n",
    "df[coll].loc[df[coll]=='Java, js'] = 'Java'\n",
    "\n",
    "temp_count = df[coll].value_counts()\n",
    "\n",
    "freq_min = 5\n",
    "keep_levels = list(temp_count[temp_count.values>=freq_min].index)\n",
    "df[coll] = df[coll].where(df[coll].isin(keep_levels), 'Merged')"
   ]
  },
  {
   "cell_type": "code",
   "execution_count": null,
   "metadata": {},
   "outputs": [],
   "source": [
    "fig, axes = plt.subplots(figsize=(8, 20))\n",
    "\n",
    "plot1 = sns.countplot(y=df[\"Your main technology / programming language\"], ax=axes, order=df[\"Your main technology / programming language\"].value_counts().index)\n",
    "#plot1 = sns.histplot(y=df[\"Your main technology / programming language\"], ax=axes)\n",
    "\n",
    "plot1.set_xlabel('', fontsize=16);\n",
    "plot1.set_ylabel('', fontsize=16);\n",
    "plot1.set_title('Vaša hlavná technológia / programovací jazyk', fontsize=20)\n",
    "\n",
    "for c in axes.containers:\n",
    "    labels = [f'{(v.get_width()):.0f}' for v in c]\n",
    "    axes.bar_label(c, labels=labels, label_type='edge')"
   ]
  },
  {
   "cell_type": "markdown",
   "metadata": {},
   "source": [
    "### 10. Ďalšie technológie / programovacie jazyky ktoré často používate (Other technologies/programming languages you use often)"
   ]
  },
  {
   "cell_type": "code",
   "execution_count": null,
   "metadata": {},
   "outputs": [],
   "source": [
    "df[\"Other technologies/programming languages you use often\"].describe()"
   ]
  },
  {
   "cell_type": "code",
   "execution_count": null,
   "metadata": {},
   "outputs": [],
   "source": [
    "df[\"Other technologies/programming languages you use often\"].unique()"
   ]
  },
  {
   "cell_type": "code",
   "execution_count": null,
   "metadata": {},
   "outputs": [],
   "source": [
    "coll = \"Your main technology / programming language\"\n",
    "\n",
    "df[coll].loc[df[coll]=='Javascript'] = 'JavaScript'\n",
    "df[coll].loc[df[coll]=='Javascript/es6'] = 'JavaScript'\n",
    "df[coll].loc[df[coll]=='js'] = 'JavaScript'\n",
    "df[coll].loc[df[coll]=='Js'] = 'JavaScript'\n",
    "df[coll].loc[df[coll]=='Javascript'] = 'JavaScript'\n",
    "df[coll].loc[df[coll]=='web apps'] = 'JavaScript'\n",
    "df[coll].loc[df[coll]=='Java, js'] = 'Java'\n",
    "\n",
    "temp_count = df[coll].value_counts()\n",
    "\n",
    "freq_min = 5\n",
    "keep_levels = list(temp_count[temp_count.values>=freq_min].index)\n",
    "df[coll] = df[coll].where(df[coll].isin(keep_levels), 'Merged')"
   ]
  },
  {
   "cell_type": "markdown",
   "metadata": {},
   "source": [
    "### 11. Ročná hrubá mzda (bez bonusov a akcií) v eurách - (yearly brutto salary (without bonus and stocks) in EUR)"
   ]
  },
  {
   "cell_type": "code",
   "execution_count": null,
   "metadata": {},
   "outputs": [],
   "source": [
    "df[\"Yearly brutto salary (without bonus and stocks) in EUR\"].describe()"
   ]
  },
  {
   "cell_type": "code",
   "execution_count": null,
   "metadata": {},
   "outputs": [],
   "source": [
    "fig = px.box(df, x=\"Yearly brutto salary (without bonus and stocks) in EUR\", log_x=True,\n",
    "    labels={\"Yearly brutto salary (without bonus and stocks) in EUR\": \"Ročná hrubá mzda bez bonusov v EUR\"})\n",
    "#fig.show()\n",
    "fig"
   ]
  },
  {
   "cell_type": "markdown",
   "metadata": {},
   "source": [
    "### 12. Ročný bonus + akcie v EUR (yearly bonus + stocks in EUR)"
   ]
  },
  {
   "cell_type": "code",
   "execution_count": null,
   "metadata": {},
   "outputs": [],
   "source": [
    "df[\"Yearly bonus + stocks in EUR\"].describe()"
   ]
  },
  {
   "cell_type": "code",
   "execution_count": null,
   "metadata": {},
   "outputs": [],
   "source": [
    "fig = px.box(df, x=\"Yearly bonus + stocks in EUR\", log_x=True,\n",
    "    labels={\"Yearly bonus + stocks in EUR\": \"Ročný bonus + akcie v EUR\"})\n",
    "fig.show()"
   ]
  },
  {
   "cell_type": "markdown",
   "metadata": {},
   "source": [
    "### 13. Ročná hrubá mzda (bez bonusu a akcií) pred rokom. Odpovedajte iba ak zostávate v rovnakej krajine. \n",
    "### (Annual brutto salary (without bonus and stocks) one year ago. Only answer if staying in the same country)"
   ]
  },
  {
   "cell_type": "code",
   "execution_count": null,
   "metadata": {},
   "outputs": [],
   "source": [
    "df[\"Annual brutto salary (without bonus and stocks) one year ago. Only answer if staying in the same country\"].describe()"
   ]
  },
  {
   "cell_type": "code",
   "execution_count": null,
   "metadata": {},
   "outputs": [],
   "source": [
    "fig = px.box(df, x=\"Annual brutto salary (without bonus and stocks) one year ago. Only answer if staying in the same country\", log_x=True,\n",
    "    labels={\"Annual brutto salary (without bonus and stocks) one year ago. Only answer if staying in the same country\": \n",
    "    \"Ročná hrubá mzda (bez bonusu a akcií) pred rokom\"})\n",
    "fig.show()"
   ]
  },
  {
   "cell_type": "markdown",
   "metadata": {},
   "source": [
    "### 14. Ročný bonus + akcie pred rokom. Odpovedajte iba ak zostávate v rovnakej krajine.\n",
    "\n",
    "\n",
    "### (Annual bonus+stocks one year ago. Only answer if staying in same country)"
   ]
  },
  {
   "cell_type": "code",
   "execution_count": null,
   "metadata": {},
   "outputs": [],
   "source": [
    "df[\"Annual bonus+stocks one year ago. Only answer if staying in same country\"].describe()"
   ]
  },
  {
   "cell_type": "code",
   "execution_count": null,
   "metadata": {},
   "outputs": [],
   "source": [
    "fig = px.box(df, x=\"Annual bonus+stocks one year ago. Only answer if staying in same country\", log_x=True,\n",
    "    labels={\"Annual bonus+stocks one year ago. Only answer if staying in same country\": \n",
    "    \"Ročný bonus + akcie pred rokom\"})\n",
    "fig.show()"
   ]
  },
  {
   "cell_type": "markdown",
   "metadata": {},
   "source": [
    "### 15. Počet dní pracovného voľna (Number of vacation days)"
   ]
  },
  {
   "cell_type": "code",
   "execution_count": null,
   "metadata": {},
   "outputs": [],
   "source": [
    "df[\"Number of vacation days\"].describe()"
   ]
  },
  {
   "cell_type": "code",
   "execution_count": null,
   "metadata": {},
   "outputs": [],
   "source": [
    "coll = 'Number of vacation days'\n",
    "\n",
    "df[coll].loc[df[coll]=='30 IN CONTRACT (BUT THEORETICALLY UNLIMITED)'] = 'UNLIMITED'\n",
    "df[coll].loc[df[coll]=='23+'] = '23'\n",
    "df[coll].loc[df[coll]=='(NO IDEA)'] = '_MISSING_'\n",
    "df[coll].loc[df[coll]=='24 LABOUR DAYS'] = '24'\n",
    "df[coll].loc[df[coll]=='~25'] = '25'\n",
    "df[coll].loc[df[coll]=='365'] = 'UNLIMITED'"
   ]
  },
  {
   "cell_type": "code",
   "execution_count": null,
   "metadata": {},
   "outputs": [],
   "source": [
    "fig, axes = plt.subplots(figsize=(20, 16))\n",
    "\n",
    "plot1 = sns.lineplot(data=df, y=\"Number of vacation days\", x=\"Age\",\n",
    "                    ax=axes)\n",
    "\n",
    "plot1.set_xlabel('', fontsize=16);\n",
    "plot1.set_ylabel('', fontsize=16);\n",
    "plot1.set_title('Počet dní pracovného voľna', fontsize=20)\n",
    "\n",
    "for c in axes.containers:\n",
    "    labels = [f'{(v.get_width()):.0f}' for v in c]\n",
    "    axes.bar_label(c, labels=labels, label_type='edge')"
   ]
  },
  {
   "cell_type": "markdown",
   "metadata": {},
   "source": [
    "### 16. Ako zamestnaný (Employment status)"
   ]
  },
  {
   "cell_type": "code",
   "execution_count": null,
   "metadata": {},
   "outputs": [],
   "source": [
    "df[\"Employment status\"].describe()"
   ]
  },
  {
   "cell_type": "code",
   "execution_count": 204,
   "metadata": {},
   "outputs": [],
   "source": [
    "coll = \"Employment status\"\n",
    "\n",
    "temp_count = df[coll].value_counts()\n",
    "\n",
    "freq_min = 5\n",
    "keep_levels = list(temp_count[temp_count.values>=freq_min].index)\n",
    "df[coll] = df[coll].where(df[coll].isin(keep_levels), 'Other')"
   ]
  },
  {
   "cell_type": "code",
   "execution_count": null,
   "metadata": {},
   "outputs": [],
   "source": [
    "fig, axes = plt.subplots(figsize=(12, 6))\n",
    "\n",
    "plot1 = sns.countplot(y=df[\"Employment status\"],\n",
    "                    ax=axes, order=df[\"Employment status\"].value_counts().index)\n",
    "\n",
    "plot1.set_xlabel('', fontsize=16);\n",
    "plot1.set_ylabel('', fontsize=16);\n",
    "plot1.set_title('Typ pracovného úväzku', fontsize=20)\n",
    "\n",
    "for c in axes.containers:\n",
    "    labels = [f'{(v.get_width()):.0f}' for v in c]\n",
    "    axes.bar_label(c, labels=labels, label_type='edge')"
   ]
  },
  {
   "cell_type": "markdown",
   "metadata": {},
   "source": [
    "### 17. Doba trvania kontraktu (Сontract duration)"
   ]
  },
  {
   "cell_type": "code",
   "execution_count": null,
   "metadata": {},
   "outputs": [],
   "source": [
    "df[\"Сontract duration\"].describe()"
   ]
  },
  {
   "cell_type": "code",
   "execution_count": null,
   "metadata": {},
   "outputs": [],
   "source": [
    "fig, axes = plt.subplots(figsize=(12, 8))\n",
    "\n",
    "plot1 = sns.histplot(x=df[\"Сontract duration\"],\n",
    "                    ax=axes)\n",
    "\n",
    "plot1.set_xlabel('', fontsize=16);\n",
    "plot1.set_ylabel('', fontsize=16);\n",
    "plot1.set_title('Doba trvania kontraktu', fontsize=20)\n",
    "\n",
    "for c in axes.containers:\n",
    "    labels = [f'{(v.get_height()):.0f}' for v in c]\n",
    "    axes.bar_label(c, labels=labels, label_type='edge')"
   ]
  },
  {
   "cell_type": "markdown",
   "metadata": {},
   "source": [
    "### 18. Hlavný jazyk v práci (Main language at work)"
   ]
  },
  {
   "cell_type": "code",
   "execution_count": null,
   "metadata": {},
   "outputs": [],
   "source": [
    "df[\"Main language at work\"].describe()"
   ]
  },
  {
   "cell_type": "code",
   "execution_count": null,
   "metadata": {},
   "outputs": [],
   "source": [
    "df[\"Main language at work\"].unique()"
   ]
  },
  {
   "cell_type": "code",
   "execution_count": null,
   "metadata": {},
   "outputs": [],
   "source": [
    "coll = \"Main language at work\"\n",
    "\n",
    "df[coll].loc[df[coll]=='both'] = 'English and German'\n",
    "df[coll].loc[df[coll]=='Deuglisch'] = 'English and German'\n",
    "df[coll].loc[df[coll]=='Русский'] = 'Russian'\n",
    "df[coll].loc[df[coll]=='50/50'] = 'English and German'\n",
    "\n",
    "temp_count = df[coll].value_counts()\n",
    "\n",
    "freq_min = 5\n",
    "keep_levels = list(temp_count[temp_count.values>=freq_min].index)\n",
    "df[coll] = df[coll].where(df[coll].isin(keep_levels), 'Other language combinations')"
   ]
  },
  {
   "cell_type": "code",
   "execution_count": null,
   "metadata": {},
   "outputs": [],
   "source": [
    "fig, axes = plt.subplots(figsize=(14, 6))\n",
    "\n",
    "plot1 = sns.histplot(x=df[\"Main language at work\"],\n",
    "                    ax=axes)\n",
    "\n",
    "plot1.set_xlabel('', fontsize=16);\n",
    "plot1.set_ylabel('', fontsize=16);\n",
    "plot1.set_title('Hlavný jazyk v práci', fontsize=20)\n",
    "\n",
    "for c in axes.containers:\n",
    "    labels = [f'{(v.get_height()):.0f}' for v in c]\n",
    "    axes.bar_label(c, labels=labels, label_type='edge')"
   ]
  },
  {
   "cell_type": "markdown",
   "metadata": {},
   "source": [
    "### 19. Veľkosť spoločnosti (Company size)"
   ]
  },
  {
   "cell_type": "code",
   "execution_count": null,
   "metadata": {},
   "outputs": [],
   "source": [
    "df[\"Company size\"].describe().unique"
   ]
  },
  {
   "cell_type": "code",
   "execution_count": null,
   "metadata": {},
   "outputs": [],
   "source": [
    "fig, axes = plt.subplots(figsize=(16, 12))\n",
    "\n",
    "df[\"Company size\"] = pd.Categorical(df[\"Company size\"], ['up to 10','11-50','51-100','101-1000', '1000+'])\n",
    "\n",
    "#plot1 = sns.lineplot(data=df[\"Company size\"], ax=axes)\n",
    "\n",
    "plot1 = sns.histplot(data=df, x=\"Company size\",\n",
    "                    ax=axes)\n",
    "\n",
    "plot1.set_xlabel('', fontsize=16);\n",
    "plot1.set_ylabel('', fontsize=16);\n",
    "plot1.set_title('Veľkosť spoločnosti', fontsize=20)\n",
    "\n",
    "for c in axes.containers:\n",
    "    labels = [f'{(v.get_height()):.0f}' for v in c]\n",
    "    axes.bar_label(c, labels=labels, label_type='edge')"
   ]
  },
  {
   "cell_type": "markdown",
   "metadata": {},
   "source": [
    "### 20. Typ spoločnosti (Company type)"
   ]
  },
  {
   "cell_type": "code",
   "execution_count": null,
   "metadata": {},
   "outputs": [],
   "source": [
    "df[\"Company type\"].describe()"
   ]
  },
  {
   "cell_type": "code",
   "execution_count": null,
   "metadata": {},
   "outputs": [],
   "source": [
    "df[\"Company type\"].unique()"
   ]
  },
  {
   "cell_type": "code",
   "execution_count": null,
   "metadata": {},
   "outputs": [],
   "source": [
    "# reduce levels\n",
    "coll = \"Company type\"\n",
    "\n",
    "df[coll].loc[df[coll]=='e-commerce'] = 'E-Commerce'\n",
    "df[coll].loc[df[coll]=='e-commerce'] = 'e-commerce'\n",
    "\n",
    "temp_count = df[coll].value_counts()\n",
    "\n",
    "freq_min = 5\n",
    "keep_levels = list(temp_count[temp_count.values>=freq_min].index)\n",
    "df[coll] = df[coll].where(df[coll].isin(keep_levels), 'Merged')\n"
   ]
  },
  {
   "cell_type": "code",
   "execution_count": null,
   "metadata": {},
   "outputs": [],
   "source": [
    "fig, axes = plt.subplots(figsize=(12, 8))\n",
    "\n",
    "\n",
    "plot1 = sns.countplot(data=df, x=\"Company type\", order=df[\"Company type\"].value_counts().index,\n",
    "                    ax=axes)\n",
    "\n",
    "plot1.set_xlabel('', fontsize=16);\n",
    "plot1.set_ylabel('', fontsize=16);\n",
    "plot1.set_title('Typ spoločnosti', fontsize=20)\n",
    "\n",
    "for c in axes.containers:\n",
    "    labels = [f'{(v.get_height()):.0f}' for v in c]\n",
    "    axes.bar_label(c, labels=labels, label_type='edge')"
   ]
  },
  {
   "cell_type": "markdown",
   "metadata": {},
   "source": [
    "### 21. Stratili ste svoju prácu kvôli pandémií koronavírusu (Have you lost your job due to the coronavirus outbreak?)"
   ]
  },
  {
   "cell_type": "code",
   "execution_count": null,
   "metadata": {},
   "outputs": [],
   "source": [
    "df[\"Have you lost your job due to the coronavirus outbreak?\"].describe()"
   ]
  },
  {
   "cell_type": "code",
   "execution_count": null,
   "metadata": {},
   "outputs": [],
   "source": [
    "df[\"Have you lost your job due to the coronavirus outbreak?\"].unique()"
   ]
  },
  {
   "cell_type": "code",
   "execution_count": null,
   "metadata": {},
   "outputs": [],
   "source": [
    "# reduce levels\n",
    "coll = \"Have you lost your job due to the coronavirus outbreak?\"\n",
    "\n",
    "df[coll].loc[df[coll]==\"i didn't but will be looking for new one because of covid\"] = 'No'\n",
    "df[coll].loc[df[coll]=='kurzarbeitzeit for 1.5 months'] = 'No'\n",
    "df[coll].loc[df[coll]=='Have been a freelancer at the beginning of year'] = 'No'\n",
    "df[coll].loc[df[coll]=='No, but there was a salary cut at 10% for 3 months and then at 5% for further 3 months'] = 'No'\n",
    "df[coll].loc[df[coll]=='yes but found a new one with better pay / perks'] = 'Yes'\n",
    "df[coll].loc[df[coll]=='Leads and project inquiries have slowed down'] = 'No'\n",
    "\n",
    "temp_count = df[coll].value_counts()\n",
    "\n",
    "freq_min = 5\n",
    "keep_levels = list(temp_count[temp_count.values>=freq_min].index)\n",
    "df[coll] = df[coll].where(df[coll].isin(keep_levels), 'Other reason')\n"
   ]
  },
  {
   "cell_type": "code",
   "execution_count": null,
   "metadata": {},
   "outputs": [],
   "source": [
    "fig, axes = plt.subplots(figsize=(16, 10))\n",
    "\n",
    "plot1 = sns.countplot(data=df, y=\"Have you lost your job due to the coronavirus outbreak?\",\n",
    "                order=df[\"Have you lost your job due to the coronavirus outbreak?\"].value_counts().index, ax=axes)\n",
    "\n",
    "plot1.set_xlabel('', fontsize=16);\n",
    "plot1.set_ylabel('', fontsize=16);\n",
    "plot1.set_title('Stratili ste svoju prácu kvôli pandémií koronavírusu?', fontsize=20)\n",
    "\n",
    "for c in axes.containers:\n",
    "    labels = [f'{(v.get_width()):.0f}' for v in c]\n",
    "    axes.bar_label(c, labels=labels, label_type='edge')"
   ]
  },
  {
   "cell_type": "markdown",
   "metadata": {},
   "source": [
    "### 22. Boli ste nútený mať kratšie pracovné týždne (Kurzarbeit)? Ak áno, koľko to bolo hodín za týždeň? \n",
    "### (Have you been forced to have a shorter working week (Kurzarbeit)? If yes, how many hours per week)"
   ]
  },
  {
   "cell_type": "code",
   "execution_count": null,
   "metadata": {},
   "outputs": [],
   "source": [
    "df[\"Have you been forced to have a shorter working week (Kurzarbeit)? If yes, how many hours per week\"].describe()"
   ]
  },
  {
   "cell_type": "code",
   "execution_count": null,
   "metadata": {},
   "outputs": [],
   "source": [
    "df[\"Have you been forced to have a shorter working week (Kurzarbeit)? If yes, how many hours per week\"].plot.line()"
   ]
  },
  {
   "cell_type": "code",
   "execution_count": null,
   "metadata": {},
   "outputs": [],
   "source": [
    "fig, axes = plt.subplots(figsize=(26, 10))\n",
    "\n",
    "plot1 = sns.lineplot(data=df, y=\"Have you been forced to have a shorter working week (Kurzarbeit)? If yes, how many hours per week\",\n",
    "        x=\"Age\",\n",
    "        #y=df[\"Have you been forced to have a shorter working week (Kurzarbeit)? If yes, how many hours per week\"].value_counts(),\n",
    "        ax=axes)\n",
    "\n",
    "plot1.set_xlabel('Vek', fontsize=16);\n",
    "plot1.set_ylabel('Počet hodín na kratšom týždni', fontsize=16);"
   ]
  },
  {
   "cell_type": "code",
   "execution_count": null,
   "metadata": {},
   "outputs": [],
   "source": [
    "\n",
    "\n",
    "fig = px.box(df, x=\"Yearly bonus + stocks in EUR\", log_x=True,\n",
    "    labels={\"Yearly bonus + stocks in EUR\": \"Ročný bonus + akcie v EUR\"})\n",
    "fig.show()"
   ]
  },
  {
   "cell_type": "code",
   "execution_count": null,
   "metadata": {},
   "outputs": [],
   "source": [
    "fig, axes = plt.subplots(figsize=(26, 10))\n",
    "\n",
    "plot1 = sns.histplot(data=df, x=\"Have you been forced to have a shorter working week (Kurzarbeit)? If yes, how many hours per week\",\n",
    "        ax=axes)\n",
    "\n",
    "#order=df[\"Have you been forced to have a shorter working week (Kurzarbeit)? If yes, how many hours per week\"].value_counts().index, ax=axes)                \n",
    "\"\"\" \n",
    "plot1.set_xlabel('', fontsize=16);\n",
    "plot1.set_ylabel('', fontsize=16);\n",
    "plot1.set_title('Boli ste nútený máť kratšie pracovné týždne (Kurzarbeit)? Ak áno, koľko to bolo hodín za týždeň?', fontsize=20)\n",
    "\n",
    "for c in axes.containers:\n",
    "    labels = [f'{(v.get_height()):.0f}' for v in c]\n",
    "    axes.bar_label(c, labels=labels, label_type='edge') \"\"\"\n",
    "\n",
    "#df[\"Have you been forced to have a shorter working week (Kurzarbeit)? If yes, how many hours per week\"].plot.line()\n"
   ]
  },
  {
   "cell_type": "markdown",
   "metadata": {},
   "source": [
    "### 23. Dostali ste nejakú dodatočnú podporu od svojho zamestnávateľa z dôvodu práce z domu? ak áno, ako veľa v roku 2020 v EUR?\n",
    "### Have you received additional monetary support from your employer due to Work From Home? If yes, how much in 2020 in EUR"
   ]
  },
  {
   "cell_type": "code",
   "execution_count": null,
   "metadata": {},
   "outputs": [],
   "source": [
    "df[\"Have you received additional monetary support from your employer due to Work From Home? If yes, how much in 2020 in EUR\"].describe()"
   ]
  },
  {
   "cell_type": "code",
   "execution_count": null,
   "metadata": {},
   "outputs": [],
   "source": [
    "fig, axes = plt.subplots(figsize=(16, 20))\n",
    "\n",
    "plot1 = sns.countplot(data=df, y=\"Have you received additional monetary support from your employer due to Work From Home? If yes, how much in 2020 in EUR\",\n",
    "        ax=axes)\n",
    "#order=df[\"Have you been forced to have a shorter working week (Kurzarbeit)? If yes, how many hours per week\"].value_counts().index, ax=axes)                \n",
    "\n",
    "plot1.set_xlabel('', fontsize=16);\n",
    "plot1.set_ylabel('', fontsize=16);\n",
    "plot1.set_title('Dostali ste nejakú dodatočnú podporu od svojho zamestnávateľa z dôvodu práce z domu? ak áno, ako veľa v roku 2020 v EUR?', fontsize=20)\n",
    "\n",
    "for c in axes.containers:\n",
    "    labels = [f'{(v.get_width()):.0f}' for v in c]\n",
    "    axes.bar_label(c, labels=labels, label_type='edge')"
   ]
  },
  {
   "cell_type": "code",
   "execution_count": null,
   "metadata": {},
   "outputs": [],
   "source": [
    "plt.figure(figsize=(10,10))\n",
    "\n",
    "# Select only numeric columns\n",
    "numeric_df = df.select_dtypes(include=['float64', 'int64'])\n",
    "corr = numeric_df.corr()\n",
    "\n",
    "ax = sns.heatmap(\n",
    "    corr,\n",
    "    vmin=-1, vmax=1, center=0,\n",
    "    cmap=sns.diverging_palette(20, 220, n=200),\n",
    "    square=True, annot=True\n",
    ")\n",
    "ax.set_xticklabels(\n",
    "    ax.get_xticklabels(),\n",
    "    rotation=45,\n",
    "    horizontalalignment='right'\n",
    ")\n",
    "ax.set_yticklabels(\n",
    "    ax.get_yticklabels(),\n",
    "    rotation=45,\n",
    ");"
   ]
  },
  {
   "cell_type": "code",
   "execution_count": null,
   "metadata": {},
   "outputs": [],
   "source": [
    "plt.figure(figsize=(10,10))\n",
    "\n",
    "##corr = df[\"Age\"].corr(df[\"Gender\"])\n",
    "#corr = df.corr()[\"Age\"]\n",
    "\n",
    "newdf = df[[\"Age\", \"Total years of experience\"]].copy()\n",
    "\n",
    "df_dummies = pd.get_dummies(df[\"Employment status\"])\n",
    "del df_dummies[df_dummies.columns[-1]]\n",
    "newdf = pd.concat([newdf, df_dummies], axis=1)\n",
    "#del newdf['color_head']\n",
    "\n",
    "corr = newdf.corr()\n",
    "\n",
    "ax = sns.heatmap(\n",
    "    corr,\n",
    "    vmin=-1, vmax=1, center=0,\n",
    "    cmap=sns.diverging_palette(20, 220, n=200),\n",
    "    square=True, annot=True\n",
    ")\n",
    "ax.set_xticklabels(\n",
    "    ax.get_xticklabels(),\n",
    "    rotation=45,\n",
    "    horizontalalignment='right'\n",
    ")\n",
    "ax.set_yticklabels(\n",
    "    ax.get_yticklabels(),\n",
    "    rotation=45,\n",
    ");"
   ]
  },
  {
   "cell_type": "code",
   "execution_count": null,
   "metadata": {},
   "outputs": [],
   "source": [
    "plt.figure(figsize=(10,10))\n",
    "\n",
    "##corr = df[\"Age\"].corr(df[\"Gender\"])\n",
    "#corr = df.corr()[\"Age\"]\n",
    "\n",
    "newdf = df[[\"Age\", \"Total years of experience\", \"Yearly brutto salary (without bonus and stocks) in EUR\"]].copy()\n",
    "\n",
    "newdf[\"Total years of experience\"].loc[newdf[\"Total years of experience\"]=='6 (not as a data scientist, but as a lab scientist)'] = '6'\n",
    "newdf[\"Total years of experience\"].loc[newdf[\"Total years of experience\"]=='less than year'] = '1'\n",
    "newdf[\"Total years of experience\"].loc[newdf[\"Total years of experience\"]=='15, thereof 8 as CTO'] = '15'\n",
    "newdf[\"Total years of experience\"].loc[newdf[\"Total years of experience\"]=='1 (as QA Engineer) / 11 in total'] = '11'\n",
    "newdf[\"Total years of experience\"].loc[newdf[\"Total years of experience\"]=='383'] = '0'\n",
    "newdf[\"Total years of experience\"].loc[newdf[\"Total years of experience\"]=='1,5'] = '1.5'\n",
    "newdf[\"Total years of experience\"].loc[newdf[\"Total years of experience\"]=='2,5'] = '2.5'\n",
    "newdf[\"Total years of experience\"] = newdf[\"Total years of experience\"].astype(float)\n",
    "\n",
    "#corr = newdf[\"Age\"].corr(newdf[\"Total years of experience\"])\n",
    "corr = newdf.corr()\n",
    "\n",
    "ax = sns.heatmap(\n",
    "    corr,\n",
    "    vmin=-1, vmax=1, center=0,\n",
    "    cmap=sns.diverging_palette(20, 220, n=200),\n",
    "    square=True, annot=True\n",
    ")\n",
    "ax.set_xticklabels(\n",
    "    [\"Vek\", \"Roky skúseností\", \"Hrubá mzda bez bonusov\"],\n",
    "    rotation=45,\n",
    "    horizontalalignment='right'\n",
    ")\n",
    "\n",
    "ax.set_yticklabels(\n",
    "    [\"Vek\", \"Roky skúseností\", \"Hrubá mzda bez bonusov\"],\n",
    "    rotation=45,\n",
    ")"
   ]
  },
  {
   "cell_type": "markdown",
   "metadata": {},
   "source": [
    "## Bod 3 - datové sady"
   ]
  },
  {
   "cell_type": "markdown",
   "metadata": {},
   "source": [
    "Všeobecné čistenie pre obe datové sady"
   ]
  },
  {
   "cell_type": "code",
   "execution_count": null,
   "metadata": {},
   "outputs": [],
   "source": [
    "df = pd.read_csv(\"dataset/IT Salary Survey EU 2020.csv\")\n",
    "\n",
    "def clean_string(x):\n",
    "    x = x.strip().lower().capitalize()\n",
    "    return x\n",
    "\n",
    "features_for_string_cleaning = ['City',\n",
    "                                'Your main technology / programming language',\n",
    "                                'Other technologies/programming languages you use often']\n",
    "\n",
    "for f in features_for_string_cleaning:\n",
    "    df[f] = df[f].fillna(\"0\")\n",
    "    df[f] = df[f].apply(clean_string)\n",
    "\n",
    "# reduce levels\n",
    "coll = \"City\"\n",
    "\n",
    "df[coll].loc[df[coll]=='Bölingen'] = 'Boeblingen'\n",
    "df[coll].loc[df[coll]=='Dusseldorf'] = 'Duesseldorf'\n",
    "df[coll].loc[df[coll]=='Düsseldorf'] = 'Duesseldorf'\n",
    "df[coll].loc[df[coll]=='Dusseldurf'] = 'Duesseldorf'\n",
    "df[coll].loc[df[coll]=='Nürnberg'] = 'Nuremberg'\n",
    "df[coll].loc[df[coll]=='Warsaw, Poland'] = 'Warsaw'\n",
    "df[coll].loc[df[coll]=='Zürich'] = 'Zurich'\n",
    "\n",
    "temp_count = df[coll].value_counts()\n",
    "\n",
    "freq_min = 5\n",
    "keep_levels = list(temp_count[temp_count.values>=freq_min].index)\n",
    "df[coll] = df[coll].where(df[coll].isin(keep_levels), 'Other cities')\n",
    "\n",
    "coll = \"Position \"\n",
    "\n",
    "temp_count = df[coll].value_counts()\n",
    "\n",
    "freq_min = 5\n",
    "keep_levels = list(temp_count[temp_count.values>=freq_min].index)\n",
    "df[coll] = df[coll].where(df[coll].isin(keep_levels), 'Other position')\n",
    "\n",
    "coll = \"Total years of experience\"\n",
    "\n",
    "df[coll].loc[df[coll]=='6 (not as a data scientist, but as a lab scientist)'] = '6'\n",
    "df[coll].loc[df[coll]=='less than year'] = '1'\n",
    "df[coll].loc[df[coll]=='15, thereof 8 as CTO'] = '15'\n",
    "df[coll].loc[df[coll]=='1 (as QA Engineer) / 11 in total'] = '11'\n",
    "df[coll].loc[df[coll]=='383'] = '0'\n",
    "df[coll].loc[df[coll]=='1,5'] = '1.5'\n",
    "df[coll].loc[df[coll]=='2,5'] = '2.5'\n",
    "df[coll] = df[coll].astype(float)\n",
    "\n",
    "coll = \"Years of experience in Germany\"\n",
    "\n",
    "df[coll].loc[df[coll]=='0,3'] = '0.3'\n",
    "df[coll].loc[df[coll]=='0,5'] = '0.5'\n",
    "df[coll].loc[df[coll]=='1,5'] = '1.5'\n",
    "df[coll].loc[df[coll]=='1,7'] = '1.7'\n",
    "df[coll].loc[df[coll]=='2,5'] = '2.5'\n",
    "df[coll].loc[df[coll]=='3,5'] = '3.5'\n",
    "df[coll].loc[df[coll]=='4,5'] = '4.5'\n",
    "df[coll].loc[df[coll]=='<1'] = '0.5'\n",
    "df[coll].loc[df[coll]=='< 1'] = '0.5'\n",
    "df[coll].loc[df[coll]=='3 months'] = '0.25'\n",
    "df[coll].loc[df[coll]=='4 month'] = '0.33'\n",
    "df[coll].loc[df[coll]=='4 (in Switzerland), 0 (in Germany)'] = '0'\n",
    "df[coll].loc[df[coll]=='less than year'] = '0.5'\n",
    "df[coll].loc[df[coll]=='⁰'] = '0'\n",
    "df[coll].loc[df[coll]=='-'] = '0'\n",
    "df[coll].loc[df[coll]=='6 (not as a data scientist, but as a lab scientist)'] = '6'\n",
    "df[coll].loc[df[coll]=='3 (in Poland)'] = '0'\n",
    "df[coll] = df[coll].astype(float)\n",
    "\n",
    "coll = \"Your main technology / programming language\"\n",
    "\n",
    "df[coll].loc[df[coll]=='Javascript'] = 'JavaScript'\n",
    "df[coll].loc[df[coll]=='Javascript/es6'] = 'JavaScript'\n",
    "df[coll].loc[df[coll]=='js'] = 'JavaScript'\n",
    "df[coll].loc[df[coll]=='Js'] = 'JavaScript'\n",
    "df[coll].loc[df[coll]=='Javascript'] = 'JavaScript'\n",
    "df[coll].loc[df[coll]=='web apps'] = 'JavaScript'\n",
    "df[coll].loc[df[coll]=='Java, js'] = 'Java'\n",
    "\n",
    "temp_count = df[coll].value_counts()\n",
    "\n",
    "freq_min = 5\n",
    "keep_levels = list(temp_count[temp_count.values>=freq_min].index)\n",
    "df[coll] = df[coll].where(df[coll].isin(keep_levels), 'Merged')\n",
    "\n",
    "coll = 'Number of vacation days'\n",
    "\n",
    "df[coll].loc[df[coll]=='30 IN CONTRACT (BUT THEORETICALLY UNLIMITED)'] = 'UNLIMITED'\n",
    "df[coll].loc[df[coll]=='23+'] = '23'\n",
    "df[coll].loc[df[coll]=='(NO IDEA)'] = '_MISSING_'\n",
    "df[coll].loc[df[coll]=='24 LABOUR DAYS'] = '24'\n",
    "df[coll].loc[df[coll]=='~25'] = '25'\n",
    "df[coll].loc[df[coll]=='365'] = 'UNLIMITED'\n",
    "\n",
    "coll = \"Main language at work\"\n",
    "\n",
    "df[coll].loc[df[coll]=='both'] = 'English and German'\n",
    "df[coll].loc[df[coll]=='Deuglisch'] = 'English and German'\n",
    "df[coll].loc[df[coll]=='Русский'] = 'Russian'\n",
    "df[coll].loc[df[coll]=='50/50'] = 'English and German'\n",
    "\n",
    "temp_count = df[coll].value_counts()\n",
    "\n",
    "freq_min = 5\n",
    "keep_levels = list(temp_count[temp_count.values>=freq_min].index)\n",
    "df[coll] = df[coll].where(df[coll].isin(keep_levels), 'Other language combinations')\n",
    "\n",
    "coll = \"Company type\"\n",
    "\n",
    "df[coll].loc[df[coll]=='e-commerce'] = 'E-Commerce'\n",
    "df[coll].loc[df[coll]=='e-commerce'] = 'e-commerce'\n",
    "\n",
    "temp_count = df[coll].value_counts()\n",
    "\n",
    "freq_min = 5\n",
    "keep_levels = list(temp_count[temp_count.values>=freq_min].index)\n",
    "df[coll] = df[coll].where(df[coll].isin(keep_levels), 'Merged')\n",
    "\n",
    "# reduce levels\n",
    "coll = \"Have you lost your job due to the coronavirus outbreak?\"\n",
    "\n",
    "df[coll].loc[df[coll]==\"i didn't but will be looking for new one because of covid\"] = 'No'\n",
    "df[coll].loc[df[coll]=='kurzarbeitzeit for 1.5 months'] = 'No'\n",
    "df[coll].loc[df[coll]=='Have been a freelancer at the beginning of year'] = 'No'\n",
    "df[coll].loc[df[coll]=='No, but there was a salary cut at 10% for 3 months and then at 5% for further 3 months'] = 'No'\n",
    "df[coll].loc[df[coll]=='yes but found a new one with better pay / perks'] = 'Yes'\n",
    "df[coll].loc[df[coll]=='Leads and project inquiries have slowed down'] = 'No'\n",
    "\n",
    "temp_count = df[coll].value_counts()\n",
    "\n",
    "freq_min = 5\n",
    "keep_levels = list(temp_count[temp_count.values>=freq_min].index)\n",
    "df[coll] = df[coll].where(df[coll].isin(keep_levels), 'Other reason')"
   ]
  },
  {
   "cell_type": "code",
   "execution_count": null,
   "metadata": {},
   "outputs": [],
   "source": [
    "#transformace kategorických na numerické\n",
    "df_dis = df[[\n",
    "    \"Main language at work\",\n",
    "    \"Company size\",\n",
    "    \"Company type\",\n",
    "    \"Age\"\n",
    "]]\n",
    "\n",
    "df_dis[\"Company size\"] = df_dis[\"Company size\"].replace(['up to 10','11-50','51-100','101-1000','1000+'], [0, 1, 2, 3, 4])\n",
    "df_dis[\"Company type\"] = df_dis[\"Company type\"].replace(['Product','Startup','Consulting / Agency','Merged','Bank'], [0, 1, 2, 3, 4])\n",
    "df_dis[\"Main language at work\"] = df_dis[\"Main language at work\"].replace(['English','German','English and German','Other language combinations','Russian'], [0, 1, 2, 3, 4])\n",
    "\n",
    "df_dis.dropna(inplace=True)\n",
    "\n",
    "df_dis.head(50)\n",
    "\n",
    "df_dis.head(50).to_csv(\"dis.csv\")"
   ]
  },
  {
   "cell_type": "code",
   "execution_count": null,
   "metadata": {},
   "outputs": [],
   "source": [
    "#diskretizace numerických atrib na kategorické\n",
    "df_cat = df[[\n",
    "    \"City\",\n",
    "    \"Yearly brutto salary (without bonus and stocks) in EUR\",\n",
    "    \"Age\"\n",
    "]]\n",
    "\n",
    "df_cat.dropna(inplace=True)\n",
    "\n",
    "df_cat.head(50).to_csv(\"cat.csv\")"
   ]
  }
 ],
 "metadata": {
  "kernelspec": {
   "display_name": "venv",
   "language": "python",
   "name": "python3"
  },
  "language_info": {
   "codemirror_mode": {
    "name": "ipython",
    "version": 3
   },
   "file_extension": ".py",
   "mimetype": "text/x-python",
   "name": "python",
   "nbconvert_exporter": "python",
   "pygments_lexer": "ipython3",
   "version": "3.8.20"
  },
  "orig_nbformat": 4
 },
 "nbformat": 4,
 "nbformat_minor": 2
}
