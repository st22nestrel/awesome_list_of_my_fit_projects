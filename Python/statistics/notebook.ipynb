{
 "cells": [
  {
   "cell_type": "code",
   "execution_count": 1,
   "metadata": {},
   "outputs": [],
   "source": [
    "#xponek00 Timotej Ponek\n",
    "\n",
    "import pandas as pd\n",
    "import numpy as np\n",
    "import scipy.stats as sp\n",
    "import statsmodels.api as sm"
   ]
  },
  {
   "cell_type": "code",
   "execution_count": null,
   "metadata": {},
   "outputs": [],
   "source": [
    "df_task1 = pd.read_csv('zadani1.csv', sep=';', index_col=0)\n",
    "df_task1 = df_task1[1:]\n",
    "df_task1"
   ]
  },
  {
   "cell_type": "markdown",
   "metadata": {},
   "source": [
    "## 1. a-c"
   ]
  },
  {
   "cell_type": "code",
   "execution_count": 3,
   "metadata": {},
   "outputs": [],
   "source": [
    "stat, p, dof, expected = sp.chi2_contingency(df_task1)\n",
    "\n",
    "alpha = 0.05"
   ]
  },
  {
   "cell_type": "code",
   "execution_count": null,
   "metadata": {},
   "outputs": [],
   "source": [
    "# 1.a V městech, obcích a v okolí studenta (8. průzkumů) je stejné procentuální zastoupení obyvatel, co preferují zimní čas\n",
    "\n",
    "stat, p = sp.chisquare(expected[0], f_exp=df_task1.iloc[0].to_numpy())\n",
    "\n",
    "if p <= alpha:\n",
    "\tprint('zamietame hypotézu')\n",
    "else:\n",
    "\tprint('nezamietame hypotézu')\n",
    "\n",
    "p"
   ]
  },
  {
   "cell_type": "code",
   "execution_count": null,
   "metadata": {},
   "outputs": [],
   "source": [
    "# 1.b V městech, obcích a v okolí studenta (8. průzkumů) je stejné procentuální zastoupení obyvatel, co preferují letní čas.\n",
    "\n",
    "stat, p = sp.chisquare(expected[1], f_exp=df_task1.iloc[1].to_numpy())\n",
    "\n",
    "if p <= alpha:\n",
    "\tprint('zamietame hypotézu')\n",
    "else:\n",
    "\tprint('nezamietame hypotézu')\n",
    "\n",
    "p"
   ]
  },
  {
   "cell_type": "code",
   "execution_count": null,
   "metadata": {},
   "outputs": [],
   "source": [
    "# 1.c V městech, obcích a v okolí studenta (8. průzkumů) je stejné procentuální zastoupení obyvatel, co preferují střídání času.\n",
    "\n",
    "stat, p = sp.chisquare(expected[2], f_exp=df_task1.iloc[2].to_numpy())\n",
    "\n",
    "if p <= alpha:\n",
    "\tprint('zamietame hypotézu')\n",
    "else:\n",
    "\tprint('nezamietame hypotézu')\n",
    "\n",
    "p"
   ]
  },
  {
   "cell_type": "markdown",
   "metadata": {},
   "source": [
    "## 1. d-e"
   ]
  },
  {
   "cell_type": "code",
   "execution_count": null,
   "metadata": {},
   "outputs": [],
   "source": [
    "# prepare 3 column table\n",
    "ps_cities = df_task1[['Praha', 'Brno']].sum(axis=1).rename('cities')\n",
    "ps_towns = df_task1[['Znojmo', 'Tišnov']].sum(axis=1).rename('towns')\n",
    "ps_villages = df_task1[['Rokytnice nad Jizerou', 'Jablunkov', 'Dolní Věstonice']].sum(axis=1).rename('villages')\n",
    "\n",
    "df_task1_1 = ps_cities.to_frame()\n",
    "df_task1_1 = df_task1_1.merge(ps_towns, left_index=True, right_index=True)\n",
    "df_task1_1 = df_task1_1.merge(ps_villages, left_index=True, right_index=True)\n",
    "\n",
    "df_task1_1"
   ]
  },
  {
   "cell_type": "code",
   "execution_count": 8,
   "metadata": {},
   "outputs": [],
   "source": [
    "stat, p, dof, expected = sp.chi2_contingency(df_task1_1)\n",
    "\n",
    "alpha = 0.05"
   ]
  },
  {
   "cell_type": "code",
   "execution_count": null,
   "metadata": {},
   "outputs": [],
   "source": [
    "# 1.d U větších měst, menších měst a obcí (3. průzkumy) je stejné procentuální zastoupení obyvatel, co preferují zimní čas.\n",
    "\n",
    "stat, p = sp.chisquare(expected[0], f_exp=df_task1_1.iloc[0].to_numpy())\n",
    "\n",
    "if p <= alpha:\n",
    "\tprint('zamietame hypotézu')\n",
    "else:\n",
    "\tprint('nezamietame hypotézu')\n",
    "\n",
    "p"
   ]
  },
  {
   "cell_type": "code",
   "execution_count": null,
   "metadata": {},
   "outputs": [],
   "source": [
    "# 1.e U větších měst, menších měst a obcí (3. průzkumy) je stejné procentuální zastoupení nerozhodnutelných obyvatel.\n",
    "\n",
    "stat, p = sp.chisquare(expected[3], f_exp=df_task1_1.iloc[3].to_numpy())\n",
    "\n",
    "if p <= alpha:\n",
    "\tprint('zamietame hypotézu')\n",
    "else:\n",
    "\tprint('nezamietame hypotézu')\n",
    "\n",
    "p"
   ]
  },
  {
   "cell_type": "markdown",
   "metadata": {},
   "source": [
    "## 1. f"
   ]
  },
  {
   "cell_type": "code",
   "execution_count": null,
   "metadata": {},
   "outputs": [],
   "source": [
    "df_task1_2 = df_task1_1.merge(df_task1['okolí studenta'], left_index=True, right_index=True)\n",
    "\n",
    "#df_task1_2 = df_task1_2.transpose()\n",
    "\n",
    "df_task1_2"
   ]
  },
  {
   "cell_type": "code",
   "execution_count": null,
   "metadata": {},
   "outputs": [],
   "source": [
    "np.corrcoef(df_task1_2['cities'].to_numpy(), df_task1_2['okolí studenta'].to_numpy())[1][0]"
   ]
  },
  {
   "cell_type": "code",
   "execution_count": null,
   "metadata": {},
   "outputs": [],
   "source": [
    "np.corrcoef(df_task1_2['towns'].to_numpy(), df_task1_2['okolí studenta'].to_numpy())[1][0]"
   ]
  },
  {
   "cell_type": "code",
   "execution_count": null,
   "metadata": {},
   "outputs": [],
   "source": [
    "np.corrcoef(df_task1_2['villages'].to_numpy(), df_task1_2['okolí studenta'].to_numpy())[1][0]"
   ]
  },
  {
   "cell_type": "markdown",
   "metadata": {},
   "source": [
    "### \\########################################################"
   ]
  },
  {
   "cell_type": "code",
   "execution_count": 15,
   "metadata": {},
   "outputs": [],
   "source": [
    "df_task2 = pd.read_csv('zadani2.csv', sep='\\t')"
   ]
  },
  {
   "cell_type": "code",
   "execution_count": null,
   "metadata": {},
   "outputs": [],
   "source": [
    "df_task2.info()"
   ]
  },
  {
   "cell_type": "markdown",
   "metadata": {},
   "source": [
    "## Prvy (pôvodny) model"
   ]
  },
  {
   "cell_type": "code",
   "execution_count": null,
   "metadata": {},
   "outputs": [],
   "source": [
    "F = np.column_stack((df_task2['xi'], df_task2['yi'], df_task2['xi']**2, df_task2['yi']**2, df_task2['xi'] * df_task2['yi']))\n",
    "F = sm.add_constant(F)\n",
    "Z = df_task2['zi']\n",
    "\n",
    "\n",
    "model = sm.OLS(Z, F).fit()\n",
    "model.summary()"
   ]
  },
  {
   "cell_type": "code",
   "execution_count": null,
   "metadata": {},
   "outputs": [],
   "source": [
    "model.summary2()"
   ]
  },
  {
   "cell_type": "markdown",
   "metadata": {},
   "source": [
    "vyhodíme parametre x a y (x1 a x2), pretože ich intreval spolehlivosti obsahuje 0 \n",
    "ref: https://is.muni.cz/el/econ/jaro2006/PVSTAP/um/1266212/AS2_2.pdf (2.2.1 Interval spolehlivosti pro jednotlive regresní parametry)\n",
    "\n",
    "## Model 2 s vyhodeným x a y"
   ]
  },
  {
   "cell_type": "code",
   "execution_count": null,
   "metadata": {},
   "outputs": [],
   "source": [
    "F2 = np.column_stack((df_task2['xi']**2, df_task2['yi']**2, df_task2['xi'] * df_task2['yi']))\n",
    "F2 = sm.add_constant(F2)\n",
    "\n",
    "model2 = sm.OLS(Z, F2).fit()\n",
    "print(model2.summary())"
   ]
  },
  {
   "cell_type": "markdown",
   "metadata": {},
   "source": [
    "## 2. c - nestranný odhad rozptylu závislej premennej"
   ]
  },
  {
   "cell_type": "code",
   "execution_count": null,
   "metadata": {},
   "outputs": [],
   "source": [
    "model2.mse_resid"
   ]
  },
  {
   "cell_type": "markdown",
   "metadata": {},
   "source": [
    "## 2. d - Vhodným testem zjistěte, že vámi zvolené dva regresní parametry jsou současně nulové"
   ]
  },
  {
   "cell_type": "code",
   "execution_count": null,
   "metadata": {},
   "outputs": [],
   "source": [
    "test = model2.f_test('x1=x2=0')\n",
    "\n",
    "test.pvalue"
   ]
  },
  {
   "cell_type": "markdown",
   "metadata": {},
   "source": [
    "## 2. e - Vhodným testem zjistěte, že vámi zvolené dva regresní parametry jsou stejné."
   ]
  },
  {
   "cell_type": "code",
   "execution_count": null,
   "metadata": {},
   "outputs": [],
   "source": [
    "test = model2.t_test('x1=x2')\n",
    "\n",
    "test.pvalue"
   ]
  },
  {
   "cell_type": "markdown",
   "metadata": {},
   "source": []
  }
 ],
 "metadata": {
  "kernelspec": {
   "display_name": "venv",
   "language": "python",
   "name": "python3"
  },
  "language_info": {
   "codemirror_mode": {
    "name": "ipython",
    "version": 3
   },
   "file_extension": ".py",
   "mimetype": "text/x-python",
   "name": "python",
   "nbconvert_exporter": "python",
   "pygments_lexer": "ipython3",
   "version": "3.8.20"
  },
  "orig_nbformat": 4
 },
 "nbformat": 4,
 "nbformat_minor": 2
}
